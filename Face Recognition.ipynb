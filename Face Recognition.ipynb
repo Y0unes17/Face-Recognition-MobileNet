{
 "cells": [
  {
   "cell_type": "code",
   "execution_count": 48,
   "metadata": {
    "colab": {},
    "colab_type": "code",
    "id": "1UqCJa5BqPzR",
    "outputId": "0407b9a6-3613-4887-b2d8-cc06e73d5a90"
   },
   "outputs": [],
   "source": [
    "# Face Recognition \n",
    "from PIL import Image \n",
    "from keras.applications.mobilenet import preprocess_input\n",
    "import base64 \n",
    "\n",
    "from io import BytesIO \n",
    "import json \n",
    "import random \n",
    "import cv2 \n",
    "from keras.models import load_model \n",
    "import numpy as np \n",
    "threshold = 0.70  \n",
    "font = cv2.FONT_HERSHEY_SIMPLEX"
   ]
  },
  {
   "cell_type": "code",
   "execution_count": 49,
   "metadata": {
    "colab": {},
    "colab_type": "code",
    "id": "wzzu5fACqPzm",
    "outputId": "cc064d1b-866d-435e-edbf-39ac71cb312d",
    "scrolled": true
   },
   "outputs": [],
   "source": [
    "from keras.preprocessing import image \n",
    "model = load_model('face3.h5')\n"
   ]
  },
  {
   "cell_type": "code",
   "execution_count": 50,
   "metadata": {
    "colab": {},
    "colab_type": "code",
    "id": "T2gLBoalqPzu"
   },
   "outputs": [],
   "source": [
    "face_cascade = cv2.CascadeClassifier('haarcascade_frontalface_default.xml') \n",
    "#haarcascade_frontalface_default/haarcascade_frontalface_alt_tree\n",
    "def face_extractor(img):\n",
    "    faces = face_cascade.detectMultiScale(img, 1.3, 5) \n",
    "    if faces is (): \n",
    "        return None \n",
    "\n",
    "    for (x,y,w,h) in faces: \n",
    "        #cv2.rectangle(img,(x,y),(x+w,y+h),(0,255,255),2)\n",
    "        cropped_face = img[y:y+h, x:x+w] \n",
    "     \n",
    "    return cropped_face "
   ]
  },
  {
   "cell_type": "code",
   "execution_count": 57,
   "metadata": {
    "colab": {},
    "colab_type": "code",
    "id": "1cms42rEqPz2",
    "scrolled": true
   },
   "outputs": [],
   "source": [
    "import os\n",
    "video_capture = cv2.VideoCapture(0) \n",
    "\n",
    "\n",
    "\n",
    "while True: \n",
    "    _, frame = video_capture.read() \n",
    "    face=face_extractor(frame) \n",
    "    if type(face) is np.ndarray: \n",
    "        face = cv2.resize(face, (224, 224)) \n",
    "        im = Image.fromarray(face, 'RGB') \n",
    "        img_array = np.array(im) \n",
    "        img_array_expanded_dims = np.expand_dims(img_array, axis=0) \n",
    "        img_array = preprocess_input(img_array_expanded_dims)\n",
    "        pred = model.predict(img_array)\n",
    "        prediction = np.argmax(pred[0]) \n",
    "        #label=class_labels[pred.argmax()]\n",
    "        probabilityValue =np.amax(pred)\n",
    "        if probabilityValue > threshold:\n",
    "            \n",
    "            if prediction==0:\n",
    "                name='autre :'\n",
    "            elif prediction==1:\n",
    "                name='jihed :'\n",
    "            elif prediction==2:\n",
    "                name='younes :'\n",
    "                \n",
    "            #cv2.putText(frame,name, (50, 50), cv2.FONT_HERSHEY_COMPLEX, 1, (0,0,255), 2) \n",
    "            #cv2.putText(frame, name+str(round(probabilityValue*100,2) )+\"%\", (50, 75), font, 0.75, (0, 0, 255), 2, cv2.LINE_AA)\n",
    "            text = \"{}: {:.2f}%\".format(name, probabilityValue * 100)\n",
    "            faces = face_cascade.detectMultiScale(frame, 1.3, 5)\n",
    "\n",
    "            for (x,y,w,h) in faces: \n",
    "                cv2.rectangle(frame,(x,y),(x+w,y+h),(0,255,255),2)\n",
    "                cv2.rectangle(frame, (x-2,y-2), (x+w, y-30), (0,255,0), cv2.FILLED)\n",
    "                cv2.putText(frame, text, ((x+5,y-5)),cv2.FONT_HERSHEY_SIMPLEX, 0.75, (0, 0, 255), 2)\n",
    "                # save frame jpg in folder\n",
    "                cv2.imwrite(\"Picture/\" +name+str(y) + \".jpg\", frame)\n",
    "                \n",
    "                            \n",
    "    else: \n",
    "        cv2.putText(frame,\"No face found\", (50, 50), cv2.FONT_HERSHEY_COMPLEX, 1, (0,255,0), 2) \n",
    "        #save video \n",
    "        out = cv2.VideoWriter('output.avi',cv2.VideoWriter_fourcc(*'XVID'),20, (640,480))    \n",
    "    out.write(frame)\n",
    "    \n",
    "    cv2.imshow('Video', frame) \n",
    "    \n",
    "    if cv2.waitKey(1) & 0xFF == ord('q'): \n",
    "        break \n",
    "video_capture.release() \n",
    "cv2.destroyAllWindows() \n"
   ]
  },
  {
   "cell_type": "code",
   "execution_count": null,
   "metadata": {},
   "outputs": [],
   "source": []
  }
 ],
 "metadata": {
  "colab": {
   "name": "reconnaissance_facial2.ipynb",
   "provenance": []
  },
  "kernelspec": {
   "display_name": "Python 3",
   "language": "python",
   "name": "python3"
  },
  "language_info": {
   "codemirror_mode": {
    "name": "ipython",
    "version": 3
   },
   "file_extension": ".py",
   "mimetype": "text/x-python",
   "name": "python",
   "nbconvert_exporter": "python",
   "pygments_lexer": "ipython3",
   "version": "3.7.6"
  }
 },
 "nbformat": 4,
 "nbformat_minor": 1
}
